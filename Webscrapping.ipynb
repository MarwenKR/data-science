{
  "cells": [
    {
      "cell_type": "markdown",
      "metadata": {},
      "source": [
        "# Extract data from a URL"
      ]
    },
    {
      "cell_type": "markdown",
      "metadata": {},
      "source": [
        "This NoteBook will help scraping data from url and then transfrom it to Datafrome."
      ]
    },
    {
      "cell_type": "markdown",
      "metadata": {},
      "source": [
        "### Import libraries"
      ]
    },
    {
      "cell_type": "code",
      "execution_count": 25,
      "metadata": {},
      "outputs": [],
      "source": [
        "import pandas as pd\n",
        "import requests\n",
        "from bs4 import BeautifulSoup "
      ]
    },
    {
      "cell_type": "markdown",
      "metadata": {},
      "source": [
        "### Get the webpage into a beautifulSoup structure"
      ]
    },
    {
      "cell_type": "code",
      "execution_count": 26,
      "metadata": {},
      "outputs": [],
      "source": [
        "url = \"https://en.wikipedia.org/wiki/World_population\"\n",
        "data  = requests.get(url).text \n",
        "soup = BeautifulSoup(data,\"html.parser\")  # create a soup object using the variable 'data'\n",
        "#find a html table in the web page\n",
        "tables = soup.find_all('table') # in html table is represented by the tag <table>\n"
      ]
    },
    {
      "cell_type": "code",
      "execution_count": 27,
      "metadata": {},
      "outputs": [
        {
          "name": "stdout",
          "output_type": "stream",
          "text": [
            "7\n"
          ]
        }
      ],
      "source": [
        "for index,table in enumerate(tables):\n",
        "    if (\"10 most densely populated countries\" in str(table)):\n",
        "        table_index = index\n",
        "print(table_index)"
      ]
    },
    {
      "cell_type": "code",
      "execution_count": 30,
      "metadata": {},
      "outputs": [],
      "source": [
        "# Instead of appending, you can construct lists for each column and then create the DataFrame\n",
        "rank_list = []\n",
        "country_list = []\n",
        "population_list = []\n",
        "area_list = []\n",
        "density_list = []\n",
        "\n",
        "for row in tables[table_index].tbody.find_all(\"tr\"):\n",
        "    col = row.find_all(\"td\")\n",
        "    if col:\n",
        "        rank_list.append(col[0].text)\n",
        "        country_list.append(col[1].text)\n",
        "        population_list.append(col[2].text.strip())\n",
        "        area_list.append(col[3].text.strip())\n",
        "        density_list.append(col[4].text.strip())\n",
        "\n",
        "population_data = pd.DataFrame({\n",
        "    \"Rank\": rank_list,\n",
        "    \"Country\": country_list,\n",
        "    \"Population\": population_list,\n",
        "    \"Area\": area_list,\n",
        "    \"Density\": density_list\n",
        "})"
      ]
    },
    {
      "cell_type": "code",
      "execution_count": 31,
      "metadata": {},
      "outputs": [
        {
          "name": "stdout",
          "output_type": "stream",
          "text": [
            "  Rank                        Country     Population       Area Density\n",
            "0    1                      Singapore      5,921,231        719   8,235\n",
            "1    2                     Bangladesh    165,650,475    148,460   1,116\n",
            "2    3  \\n Palestine[note 3][103]\\n\\n      5,223,000      6,025     867\n",
            "3    4                 Taiwan[note 4]     23,580,712     35,980     655\n",
            "4    5                    South Korea     51,844,834     99,720     520\n",
            "5    6                        Lebanon      5,296,814     10,400     509\n",
            "6    7                         Rwanda     13,173,730     26,338     500\n",
            "7    8                        Burundi     12,696,478     27,830     456\n",
            "8    9                          India  1,389,637,446  3,287,263     423\n",
            "9   10                    Netherlands     17,400,824     41,543     419\n"
          ]
        }
      ],
      "source": [
        "print(population_data)\n"
      ]
    },
    {
      "cell_type": "code",
      "execution_count": null,
      "metadata": {},
      "outputs": [],
      "source": []
    }
  ],
  "metadata": {
    "kernelspec": {
      "display_name": "Python 3",
      "language": "python",
      "name": "python3"
    },
    "language_info": {
      "codemirror_mode": {
        "name": "ipython",
        "version": 3
      },
      "file_extension": ".py",
      "mimetype": "text/x-python",
      "name": "python",
      "nbconvert_exporter": "python",
      "pygments_lexer": "ipython3",
      "version": "3.10.11"
    }
  },
  "nbformat": 4,
  "nbformat_minor": 4
}
